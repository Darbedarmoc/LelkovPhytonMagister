{
 "cells": [
  {
   "cell_type": "markdown",
   "metadata": {},
   "source": [
    "# Задание 1\n",
    "\n",
    "Сразу должен сказать, что я впервые работаю в питоне, в моем прошлом вузе мы изучали все, кроме него. В целом я многое на уровне алгоритмизации, но не в коде. Потому извиняюсь, если будет прям что то из ряда вон выходяшего х) | Например подсказки у кода, чтобы не забыть, что за что отвечает и мне было проще думать.. Оно не ГПТшное, а то, как я это понимаю.\n",
    "\n",
    "Есть следующий код для [автоматического дифференцирования](https://en.wikipedia.org/wiki/Automatic_differentiation), в котором используются особенности системы типов языка `Python`: "
   ]
  },
  {
   "cell_type": "code",
   "execution_count": 1,
   "metadata": {},
   "outputs": [],
   "source": [
    "from dataclasses import dataclass #Импорту модулей (декоратор), создает __init__ (своеобразный ввод данных, типо "номер.имя.возраст.местоработы", вписывается в класс, работает как функция, формула, красивый вывод) , __repr__ (В целом тоже самое, но показывает с "номер.имя.возраст.местоработы", нужен для лучшего понимания происходящего разработчику)\n",  
    "from typing import Union, Callable #Аннотация типов, вспомогалка кода, подсказывает код, предлагает дописать за человека. Union - позволяет взять какие то конкретные типы данных "номер, возраст", также функция. Callable - позволяет переводить одни типы в другие.. например из int -> str 
    "from numbers import Number #Числовой тип, позволяет работать с int и float\n", 
    "\n",\n", 
    "@dataclass\n",
    "class Dual: #с помощью Union, мы объеденяем два значения (функции и производной), теперь мы можем создавать объект Dual, который генерирует метод __init__\n", 
    "    value: float\n",
    "    d: float\n",
    "\n",
    "    def __add__(self, other: Union[\"Dual\", Number]) -> \"Dual\":  #Здесь задаем значение other | __add__ это сложение ("__" используются ради того, чтобы выполнялось именно значение и не путалось ни с каким именем в файле) | self (своеобразное указание на атрибут) используется внутри метода, чтобы указать, что мы работаем с атрибутами и методами текущего объекта | 
    "         match other:\n",  # Проверить, подходит ли other к dual\n",
    "            case Dual(o_value, o_d):\n",
    "                return Dual(self.value + o_value, self.d + o_d) # Если other будет равен union, то происходит сложение значенией функции и прозводных, ИНАЧЕ идет сложение только значений (производная не меняется)
    "            case Number():\n",\n", 
    "                return Dual(float(other) + self.value, self.d)\n", 
    "\n",
    "    def __mul__(self, other: Union[\"Dual\", Number]) -> \"Dual\": # Также задается значение other, что будет работать только в этом классе | __mul__ это умножение |\n", 
    "         match other:\n",
    "            case Dual(o_value, o_d):\n",
    "                return Dual(self.value * o_value, self.value * o_d + self.d * o_value) # Если other подходит к Dual, то формула произведения производных  " (u(x)⋅v(x))=u′v+uv′ \n", 
    "            case Number():\n",
    "                return Dual(float(other) * self.value, float(other) * self.d) # ИНАЧЕ просто умножение значений   \n", 
    "\n",
    "    __rmul__ = __mul__  # https://docs.python.org/3/reference/datamodel.html#object.__mul__  | Меняют местами значения числа и Dual \/\n",  
    "    __radd__ = __add__  # https://docs.python.org/3/reference/datamodel.html#object.__radd__ | Как я понимаю, в случаях, если Dual будет стоять спарва, то чтобы стояло слева и в коде не было сбоя\n", 
    " \n",
    "\n",
    "def diff(func: Callable[[float], float]) -> Callable[[float], float]: # diff в данном случае создает функцию, для работы над функцией | По итогу входное значение x становится значением Dual с производной 1 \n", 
    "    return lambda x: func(Dual(x, 1.0)).d # Присваивает значение 1 к значению d \n", 
   ]
  },
  {
   "cell_type": "markdown",
   "metadata": {},
   "source": [
    "Поддерживаются две операции - сложение и умножение. Применить можно так:"
   ]
  },
  {
   "cell_type": "code",
   "execution_count": 2,
   "metadata": {},
   "outputs": [
    {
     "data": {
      "text/plain": [
       "22.0"
      ]
     },
     "execution_count": 2,
     "metadata": {},
     "output_type": "execute_result"
    }
   ],
   "source": [
    "# Функция, которую будем дифференцировать\n",
    "def f(x: float) -> float: # x относится к float (значение с плавающей точкой, напрмиер 0.34 или 124.354656)\n", 
    "    return 5 * x * x + 2 * x + 2 # Дана функция \n", 
    "\n",
    "f_diff = diff(f)\n",
    "\n",
    "# значение производной в точке x = 2\n", 
    "f_diff(2) # присваивается значения для x" \n", 
   ]
  },
  {
   "cell_type": "markdown",
   "metadata": {},
   "source": [
    "## Задание 1.1 (5 баллов)\n",
    "\n",
    "Какие недостатки вы видите в данной реализации? Реализуйте поддержку (полностью самостоятельно или модифицируя приведенный код):\n",
    "- [унарных операций (отрицательные числа -5, -35.365, -x) ](https://docs.python.org/3/reference/datamodel.html#object.__neg__) \n",
    "- деления (15/5) \n",
    "- возведения в степень (2**5) \n",
    "\n",
    "Каким образом можно проверить корректность решения?  Реализуйте достаточный, по вашему мнению, набор тестов."
   ]
  },
  {
   "cell_type": "code",
   "execution_count": 3,
   "metadata": {},
   "outputs": [],
   "source": [
    "# Честно не совсем понимаю, какие еще есть недостатки, кроме тех, что приведены выше (унарные операции, деление, возведение в степень), но думаю можно еще добавить вычитание для полной коллекции ._. с него и начнем"
 "       def __sub__(self, other: Union["Dual", Number]) -> \"Dual\": # __sub__ служит минусом\n", 
    "         return self + (-other)\n",
 "       def __neg__(self) -> \"Dual\": # __neg__ делает число с знаком - \n", 
    "         return Dual(-self.value, -self.d)\n",
    "\n",
    "    def __truediv__(self, other: Union["Dual", Number]) -> \"Dual\": # __truediv__ четкое деление до сотых \n", 
    "         match other:\n",
    "            case Dual(o_value, o_d):\n",
    "                return Dual(self.value / o_value, (self.d * o_value - self.value * o_d) / (o_value ** 2)) # формула производного деления (u′(x)v(x)−u(x)v′(x)) / v′(x)^2\n", 
    "            case Number():\n",
    "                return Dual(self.value / float(other), self.d / float(other))   # иначе просто деление значений \n", 
    "\n",
    "    def __pow__(self, power: Union["Dual", Number]) -> \"Dual\": # __pow__ возведение в степень числа \n", 
    "         match power: #тут мы используем другую переменную, т.к. она будет переумножаться и иметь своеобразную силу (но в целом можно использовать и other)\n", 
    "            case Dual(p_value, p_d):\n",
    "                return Dual(self.value ** p_value, self.value ** (p_value - 1) * (p_d * self.value * p_value + self.d * p_value)) # формула возведения в степень производных чисел (u′(x)v(x)−u(x)v′(x)) / v′(x)^2\n", 
    "            case Number():\n",
    "                return Dual(self.value ** float(power), self.d * float(power) * self.value ** (float(power) - 1))  # иначе просто возведения в степень числа значения  \n", 
    "\n",
    "\n",
    "# Дальше как и в изначально примере отражаем числа"
        "\n",
    "    __rsub__ = __sub__  \n",
    "    __rtruediv__ = __truediv__  \n",
    "    __rpow__ = __pow__ \n",
    " \n",
    " \n",
    "# Для тестирования я подготовил следующие примеры"
    " \n",
    " \n",
    "   def test_add():  # Сложение   \n", 
    "   def f(x: float) -> float:     \n",
    "    return x + 7\n",
    " assert diff(f)(5) == 1     \n",
    " \n",
    " \n",
    "   def test_sub():   # Вычитание  \n", 
    "   def f(x: float) -> float:     \n",
    "    return x - 7\n",
    " assert diff(f)(5) == 1     \n",
    " \n",
       " \n",
    "   def test_neg():  # отрицание   \n", 
    "   def f(x: float) -> float:     \n",
    "    return -x\n",
    " assert diff(f)(5) == 1     \n",
    " \n",
    " \n",
    "   def test_mul():  # умножение   \n", 
    "   def f(x: float) -> float:     \n",
    "    return x * 7\n",
    " assert diff(f)(5) == 1     \n",
    " \n",
    " \n",
    "   def test_truediv():   # Деление  \n", 
    "   def f(x: float) -> float:     \n",
    "    return x / 7\n",
    " assert diff(f)(5) == 1     \n",
    " \n",
    "   def test_pow():  # Возведение в степень   \n", 
    "   def f(x: float) -> float:     \n",
    "    return x ** 7\n",
    " assert diff(f)(5) == 1     \n",
    " \n",
    "# Для запускай тестов надо писать: "
      " \n",
    "test_add() \n",
    "test_sub() \n",
    "test_neg() \n",
    "test_mul() \n",
    "test_truediv() \n",
    "test_pow() \n",
    "print("+") \n",
    "#На этом задание 1.1. подходит к концу, по коду оно стоит после умножения"
]
  },
  {
   "cell_type": "markdown",
   "metadata": {},
   "source": [
    "## Задание 1.2 (7 баллов)\n",
    "Придумайте способ и реализуйте поддержку функций:\n",
    "- `exp()`\n",
    "- `cos()`\n",
    "- `sin()`\n",
    "- `log()`\n",
    "\n",
    "Добавьте соответствующие тесты"
   ]
  },
  {
   "cell_type": "code",
   "execution_count": 4,
   "metadata": {},
   "outputs": [],
   "source": [
    "# Для начала я добавил библиотеку [import math](https://en.wikipedia.org/wiki/Automatic_differentiation), через нее и будут выполняться действия. Записываем их под нашими прошлыми операциями"
"       def exp(self) -> \"Dual\": \n", 
    "         return Dual(math.exp(self.value), math.exp(self.value) * self.d)\n",
    "\n",
"       def sin(self) -> \"Dual\":\n", 
    "         return Dual(math.sin(self.value), math.cos(self.value) * self.d)\n",
    "\n",
"       def cos(self) -> \"Dual\":\n", 
    "         return Dual(math.sin(self.value), math.cos(self.value) * self.d)\n",
    "\n",
"       def log(self) -> \"Dual\":\n", 
    "         return Dual(math.log(self.value), self.d / self.value)\n",
    "\n",
    "\n",
"# для теста.."
   ]
  },
  {
   "cell_type": "markdown",
   "metadata": {},
   "source": [
    "## Задание 1.3 (2 балла)\n",
    "\n",
    "Воспользуйтесь методами **численного** дифференцирования для \"проверки\" работы кода на нескольких примерах. Например,  библиотеке `scipy` есть функция `derivative`. Или реализуйте какой-нибудь метод численного дифференцирования самостоятельно (**+1 балл**)"
   ]
  },
  {
   "cell_type": "code",
   "execution_count": 5,
   "metadata": {},
   "outputs": [
    {
     "data": {
      "text/plain": [
       "22.0"
      ]
     },
     "execution_count": 5,
     "metadata": {},
     "output_type": "execute_result"
    }
   ],
   "source": [
    "from scipy.misc import derivative\n",
    "\n",
    "def f(x: float) -> float:\n",
    "    return 5 * x * x + 2 * x + 2\n",
    "\n",
    "derivative(f, 2.)"
   ]
  },
  {
   "cell_type": "code",
   "execution_count": 6,
   "metadata": {},
   "outputs": [],
   "source": [
    "# ваш код"
   ]
  },
  {
   "cell_type": "markdown",
   "metadata": {},
   "source": [
    "## Задание 1.4 (6 баллов)\n",
    "\n",
    "Необходимо разработать систему автоматического тестирования алгоритма дифференцирования в следующем виде:\n",
    "- реализовать механизм генерации \"случайных функций\" (например, что-то вроде такого: $f(x) = x + 5 * x - \\cos(20 * \\log(12 - 20 * x * x )) - 20 * x$ )\n",
    "- сгенерировать достаточно большое число функций и сравнить результаты символьного и численного дифференцирования в случайных точках "
   ]
  },
  {
   "cell_type": "markdown",
   "metadata": {},
   "source": [
    "Генерацию случайных функций можно осуществить, например, двумя путями. \n",
    "1. Генерировать функцию в текстовом виде, зачем использовать встроенную функцию [eval](https://docs.python.org/3/library/functions.html#eval)\n",
    "\n",
    "```python\n",
    "func = eval(\"lambda x: 2 * x + 5\")\n",
    "assert func(42) == 89 \n",
    "```\n",
    "\n",
    "2. Использовать стандартный модуль [ast](https://docs.python.org/3/library/ast.html), который позволяет во время выполнения программы манипулировать [Абстрактным Синтаксическим Деревом](https://ru.wikipedia.org/wiki/%D0%90%D0%B1%D1%81%D1%82%D1%80%D0%B0%D0%BA%D1%82%D0%BD%D0%BE%D0%B5_%D1%81%D0%B8%D0%BD%D1%82%D0%B0%D0%BA%D1%81%D0%B8%D1%87%D0%B5%D1%81%D0%BA%D0%BE%D0%B5_%D0%B4%D0%B5%D1%80%D0%B5%D0%B2%D0%BE).\n",
    "Например, выражение \n",
    "\n",
    "```python\n",
    "func = lambda x: 2 * x + 5\n",
    "```\n",
    "\n",
    "Можно запрограммировать с помощью кода:\n",
    "\n",
    "```python\n",
    "\n",
    "expr = ast.Expression(\n",
    "    body=ast.Lambda(\n",
    "        args=ast.arguments(\n",
    "            args=[\n",
    "                ast.arg(arg='x')\n",
    "            ],\n",
    "            posonlyargs=[],\n",
    "            kwonlyargs=[],\n",
    "            kw_defaults=[],\n",
    "            defaults=[]\n",
    "        ),\n",
    "        body=ast.BinOp(\n",
    "            left=ast.BinOp(\n",
    "                left=ast.Constant(value=2),\n",
    "                op=ast.Mult(),\n",
    "                right=ast.Name(id='x', ctx=ast.Load())\n",
    "            ),\n",
    "            op=ast.Add(),\n",
    "            right=ast.Constant(value=5)\n",
    "        )\n",
    "    )\n",
    ")\n",
    "\n",
    "ast.fix_missing_locations(expr)\n",
    "\n",
    "func = eval(compile(expr, filename=\"\", mode=\"eval\"))\n",
    "\n",
    "assert func(42) == 89\n",
    "```\n",
    "\n",
    "При реализации нужно учитывать области допустимых значений функций."
   ]
  },
  {
   "cell_type": "code",
   "execution_count": null,
   "metadata": {},
   "outputs": [],
   "source": [
    "# Тут я нашел еще одну библиотеку [import random](ссылочка). И использовал ее как чисел, а затем пользовался функцией eval "
   "/n",
   "/n",
   " def random_func() -> Callable[[float], float]: /n",
   " koef = [random.uniform(-10, 10) for _ in range(3)] /n",
   " function_str = f"lambda x: {koef[0]} * x ** 2 + {koef[1]} * x + {koef[2]}" /n",
   " return eval(function_str) /n",
   "random_func = generate_random_function() /n",
   "print(random_func(2)) /n",
   "print(numerical_derivative(random_func, 2)) /n",

   "# На этом задание 1.4 сделано"
   "/n",
   "/n",
   ]
  },
  {
   "cell_type": "markdown",
   "metadata": {},
   "source": [
    "## Задание 1.5 (7 баллов)\n",
    "\n",
    "Реализуйте поддержку функций нескольких аргументов. Например\n",
    "\n",
    "```python\n",
    "def f(x: float, y: float, z: float) -> float:\n",
    "    return x * y + z - 5 * y  \n",
    "\n",
    "\n",
    "f_diff = diff(f)\n",
    "\n",
    "f_diff(10, 10, 10) # = [10, 5, 1]\n",
    "```"
   ]
  },
  {
   "cell_type": "code",
   "execution_count": null,
   "metadata": {},
   "outputs": [],
   "source": [
    "# ваш код"
   ]
  }
 ],
 "metadata": {
  "kernelspec": {
   "display_name": "Python 3.10.4 64-bit",
   "language": "python",
   "name": "python3"
  },
  "language_info": {
   "codemirror_mode": {
    "name": "ipython",
    "version": 3
   },
   "file_extension": ".py",
   "mimetype": "text/x-python",
   "name": "python",
   "nbconvert_exporter": "python",
   "pygments_lexer": "ipython3",
   "version": "3.10.6"
  },
  "orig_nbformat": 4,
  "vscode": {
   "interpreter": {
    "hash": "916dbcbb3f70747c44a77c7bcd40155683ae19c65e1c03b4aa3499c5328201f1"
   }
  }
 },
 "nbformat": 4,
 "nbformat_minor": 2
}
